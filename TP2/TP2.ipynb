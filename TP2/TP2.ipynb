{
 "cells": [
  {
   "cell_type": "markdown",
   "metadata": {},
   "source": [
    "## Visualization of CNN: Grad-CAM\n",
    "* **Objective**: Convolutional Neural Networks are widely used on computer vision. It is powerful for processing grid-like data. However we hardly know how and why it works, due to the lack of decomposability into individually intuitive components. In this assignment, we use Grad-CAM, which highlights the regions of the input image that were important for the neural network prediction.\n",
    "\n",
    "* **To be submitted within 2 weeks**: this notebook, **cleaned** (i.e. without results, for file size reasons: `menu > kernel > restart and clean`), in a state ready to be executed (if one just presses 'Enter' till the end, one should obtain all the results for all images) with a few comments at the end. No additional report, just the notebook!\n",
    "\n",
    "* NB: if `PIL` is not installed, try `conda install pillow`.\n"
   ]
  },
  {
   "cell_type": "code",
   "execution_count": null,
   "metadata": {},
   "outputs": [],
   "source": [
    "import torch\n",
    "import torch.nn as nn\n",
    "import torch.nn.functional as F\n",
    "from torchvision import models, datasets, transforms\n",
    "import matplotlib.pyplot as plt\n",
    "import pickle\n",
    "import urllib.request\n",
    "import cv2\n",
    "import numpy as np\n",
    "from PIL import Image\n",
    "\n",
    "%matplotlib inline"
   ]
  },
  {
   "cell_type": "markdown",
   "metadata": {},
   "source": [
    "### Download the Model\n",
    "We provide you a pretrained model `ResNet-34` for `ImageNet` classification dataset.\n",
    "* **ImageNet**: A large dataset of photographs with 1 000 classes.\n",
    "* **ResNet-34**: A deep architecture for image classification."
   ]
  },
  {
   "cell_type": "code",
   "execution_count": null,
   "metadata": {
    "scrolled": true
   },
   "outputs": [],
   "source": [
    "resnet34 = models.resnet34(pretrained=True)\n",
    "resnet34.layer1\n",
    "resnet34.eval() # set the model to evaluation mode"
   ]
  },
  {
   "cell_type": "markdown",
   "metadata": {},
   "source": [
    "![ResNet34](https://miro.medium.com/max/1050/1*Y-u7dH4WC-dXyn9jOG4w0w.png)"
   ]
  },
  {
   "cell_type": "code",
   "execution_count": null,
   "metadata": {},
   "outputs": [],
   "source": [
    "classes = pickle.load(urllib.request.urlopen('https://gist.githubusercontent.com/yrevar/6135f1bd8dcf2e0cc683/raw/d133d61a09d7e5a3b36b8c111a8dd5c4b5d560ee/imagenet1000_clsid_to_human.pkl') )"
   ]
  },
  {
   "cell_type": "markdown",
   "metadata": {},
   "source": [
    "### Input Images\n",
    "We provide you 20 images from ImageNet (download link on the webpage of the course or download directly using the following command line,).<br>\n",
    "In order to use the pretrained model resnet34, the input image should be normalized using `mean = [0.485, 0.456, 0.406]`, and `std = [0.229, 0.224, 0.225]`, and be resized as `(224, 224)`."
   ]
  },
  {
   "cell_type": "code",
   "execution_count": null,
   "metadata": {},
   "outputs": [],
   "source": [
    "def preprocess_image(dir_path):\n",
    "    normalize = transforms.Normalize(mean=[0.485, 0.456, 0.406],\n",
    "                                     std=[0.229, 0.224, 0.225])\n",
    "\n",
    "    dataset = datasets.ImageFolder(dir_path, transforms.Compose([\n",
    "            transforms.Resize(256), \n",
    "            transforms.CenterCrop(224), # resize the image to 224x224\n",
    "            transforms.ToTensor(), # convert numpy.array to tensor\n",
    "            normalize])) #normalize the tensor\n",
    "\n",
    "    return (dataset)"
   ]
  },
  {
   "cell_type": "code",
   "execution_count": null,
   "metadata": {
    "scrolled": true
   },
   "outputs": [],
   "source": [
    "# The images should be in a *sub*-folder of \"data/\" (ex: data/TP2_images/images.jpg) and *not* directly in \"data/\"!\n",
    "# otherwise the function won't find them\n",
    "\n",
    "import os\n",
    "\n",
    "!cd data/TP2_images && wget \"https://www.lri.fr/~gcharpia/deeppractice/2022/TP2/TP2_images.zip\" && unzip TP2_images.zip\n",
    "dir_path = \"data/\" \n",
    "dataset = preprocess_image(dir_path)"
   ]
  },
  {
   "cell_type": "code",
   "execution_count": null,
   "metadata": {},
   "outputs": [],
   "source": [
    "# show the orignal image \n",
    "index = 5\n",
    "input_image = Image.open(dataset.imgs[index][0]).convert('RGB')\n",
    "plt.imshow(input_image)"
   ]
  },
  {
   "cell_type": "code",
   "execution_count": null,
   "metadata": {},
   "outputs": [],
   "source": [
    "output = resnet34(dataset[index][0].view(1, 3, 224, 224))\n",
    "values, indices = torch.topk(output, 3)\n",
    "print(\"Top 3-classes:\", indices[0].numpy(), [classes[x] for x in indices[0].numpy()])\n",
    "print(\"Raw class scores:\", values[0].detach().numpy())"
   ]
  },
  {
   "cell_type": "markdown",
   "metadata": {},
   "source": [
    "### Grad-CAM \n",
    "* **Overview:** Given an image, and a category (‘tiger cat’) as input, we forward-propagate the image through the model to obtain the `raw class scores` before softmax. The gradients are set to zero for all classes except the desired class (tiger cat), which is set to 1. This signal is then backpropagated to the `rectified convolutional feature map` of interest, where we can compute the coarse Grad-CAM localization (blue heatmap).\n",
    "\n",
    "\n",
    "* **To Do**: Define your own function Grad_CAM to achieve the visualization of the given images. For each image, choose the top-3 possible labels as the desired classes. Compare the heatmaps of the three classes, and conclude. \n",
    "\n",
    "\n",
    "* **Hints**: \n",
    " + We need to record the output and grad_output of the feature maps to achieve Grad-CAM. In pytorch, the function `Hook` is defined for this purpose. Read the tutorial of [hook](https://pytorch.org/tutorials/beginner/former_torchies/nnft_tutorial.html#forward-and-backward-function-hooks) carefully. \n",
    " + The pretrained model resnet34 doesn't have an activation function after its last layer, the output is indeed the `raw class scores`, you can use them directly. \n",
    " + The size of feature maps is 7x7, so your heatmap will have the same size. You need to project the heatmap to the resized image (224x224, not the original one, before the normalization) to have a better observation. The function [`torch.nn.functional.interpolate`](https://pytorch.org/docs/stable/nn.functional.html?highlight=interpolate#torch.nn.functional.interpolate) may help.  \n",
    " + Here is the link of the paper [Grad-CAM: Visual Explanations from Deep Networks via Gradient-based Localization](https://arxiv.org/pdf/1610.02391.pdf)"
   ]
  },
  {
   "cell_type": "markdown",
   "metadata": {},
   "source": [
    "![Grad-CAM](https://da2so.github.io/assets/post_img/2020-08-10-GradCAM/2.png)"
   ]
  },
  {
   "cell_type": "code",
   "execution_count": null,
   "metadata": {},
   "outputs": [],
   "source": [
    "resnet34.eval()\n",
    "def get_gradients(grad):\n",
    "            gradients.append(grad)\n",
    "for index in range(21):\n",
    "    #get image at position index and process it\n",
    "    input_image = cv2.imread(dataset.imgs[index][0])\n",
    "    image = dataset[index][0].view(1, 3, 224, 224)\n",
    "    \n",
    "    # get output of the vgg_model\n",
    "    output = resnet34(image)\n",
    "    \n",
    "    #get values and indices and transform them into numpy arrays\n",
    "    values, indices = torch.topk(output, 3)\n",
    "    values=values.detach().numpy()[0]\n",
    "    indices = indices.squeeze().numpy()\n",
    "    \n",
    "    # we are going to store the heatmaps and superposed images to display them later\n",
    "    heatmap_list=[]\n",
    "    superposed_list=[]\n",
    "    \n",
    "    #begin loop for the top three classes\n",
    "    for _, idx in enumerate(indices):\n",
    "        \n",
    "        # store in gradients all the gradients of the last layer by t putting the register_hook function right after \n",
    "        # calling the last layer on the input image\n",
    "        \n",
    "        out = resnet34.conv1(image)\n",
    "        out = resnet34.bn1(out)\n",
    "        out = resnet34.relu(out)\n",
    "        out = resnet34.maxpool(out)\n",
    "        out = resnet34.layer1(out)\n",
    "        out = resnet34.layer2(out)\n",
    "        out = resnet34.layer3(out)\n",
    "        out = resnet34.layer4(out)\n",
    "        activations=out.detach()\n",
    "        \n",
    "        gradients = []\n",
    "        out.register_hook(get_gradients)\n",
    "        out = resnet34.avgpool(out)\n",
    "        out = out.view((1, -1))\n",
    "        out = resnet34.fc(out)\n",
    "        out[:,idx].backward()\n",
    "        \n",
    "        #store in averaged gradients the mean of the gradients over their pixel values to get the weights of the gradients \n",
    "        averaged_gradients = torch.mean(gradients[0], dim=(0, 2, 3))\n",
    "\n",
    "        \n",
    "\n",
    "        #average all maps of the last layer with the weights in averaged_gradients\n",
    "        for i in range(512):\n",
    "            activations[:,i,:,:] *= averaged_gradients[i]\n",
    "\n",
    "        #make heatmaps    \n",
    "        heatmap = torch.mean(activations, dim=1)\n",
    "        heatmap = F.relu(heatmap)\n",
    "        heatmap /= torch.max(heatmap)\n",
    "        \n",
    "        #make it the size of the image\n",
    "        interpolated_heatmap = F.interpolate(heatmap, size=224, mode='linear').transpose(1,2)\n",
    "        interpolated_heatmap = F.interpolate(interpolated_heatmap, size=224, mode='linear').transpose(1,2)\n",
    "        \n",
    "        #superpose it on the gray image\n",
    "        img_heatmap = cv2.resize(interpolated_heatmap.squeeze().numpy(), (input_image.shape[1], input_image.shape[0]))\n",
    "        img_heatmap = np.uint8(255 * img_heatmap)\n",
    "        img_heatmap = cv2.applyColorMap(img_heatmap, cv2.COLORMAP_JET)\n",
    "        gray_image = input_image.dot([0.07, 0.72, 0.21])\n",
    "        u=np.zeros(input_image.shape)\n",
    "        u[:,:,0]=gray_image\n",
    "        u[:,:,1]=gray_image\n",
    "        u[:,:,2]=gray_image\n",
    "        superposed = (0.65*u + 0.35*img_heatmap).astype(np.uint8)\n",
    "        \n",
    "        #store images in list to then display them nicely\n",
    "        superposed_list.append(superposed)\n",
    "        heatmap_list.append(img_heatmap)  \n",
    "    \n",
    "    #display everything\n",
    "    [im1,im2,im3] = superposed_list\n",
    "    [h1,h2,h3] = heatmap_list\n",
    "    fig, axes = plt.subplots(nrows=3, ncols=2, figsize=(20, 20))\n",
    "    axes[0,0].set_title(\"HEATMAP AND IMAGE SUPERPOSED : \"+'Class = '+classes[indices[0]]+', Score = '+str(values[0]))\n",
    "    axes[0,0].imshow(cv2.cvtColor(im1, cv2.COLOR_BGR2RGB))\n",
    "    axes[0,1].set_title(\"HEATMAP : \"+'Class = '+classes[indices[0]]+', Score = '+str(values[0]))\n",
    "    axes[0,1].imshow(cv2.cvtColor(h1, cv2.COLOR_BGR2RGB))\n",
    "    axes[1,0].set_title(\"HEATMAP AND IMAGE SUPERPOSED : \"+'Class = '+classes[indices[1]]+', Score = '+str(values[1]))\n",
    "    axes[1,0].imshow(cv2.cvtColor(im2, cv2.COLOR_BGR2RGB))\n",
    "    axes[1,1].set_title(\"HEATMAP : \"+'Class = '+classes[indices[1]]+', Score = '+str(values[1]))\n",
    "    axes[1,1].imshow(cv2.cvtColor(h2, cv2.COLOR_BGR2RGB))\n",
    "    axes[2,0].set_title(\"HEATMAP AND IMAGE SUPERPOSED : \"+'Class = '+classes[indices[2]]+', Score = '+str(values[2]))\n",
    "    axes[2,0].imshow(cv2.cvtColor(im3, cv2.COLOR_BGR2RGB))\n",
    "    axes[2,1].set_title(\"HEATMAP : \"+'Class = '+classes[indices[2]]+', Score = '+str(values[2]))\n",
    "    axes[2,1].imshow(cv2.cvtColor(h3, cv2.COLOR_BGR2RGB))\n",
    "    \n",
    "    fig.tight_layout()\n",
    "    plt.show()"
   ]
  }
 ],
 "metadata": {
  "kernelspec": {
   "display_name": "Python 3 (ipykernel)",
   "language": "python",
   "name": "python3"
  },
  "language_info": {
   "codemirror_mode": {
    "name": "ipython",
    "version": 3
   },
   "file_extension": ".py",
   "mimetype": "text/x-python",
   "name": "python",
   "nbconvert_exporter": "python",
   "pygments_lexer": "ipython3",
   "version": "3.8.12"
  }
 },
 "nbformat": 4,
 "nbformat_minor": 2
}
